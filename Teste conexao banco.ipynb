{
 "cells": [
  {
   "cell_type": "code",
   "execution_count": null,
   "metadata": {},
   "outputs": [],
   "source": [
    "import pandas as pd\n",
    "import hvplot.pandas\n",
    "import panel as pn\n",
    "from datetime import date, datetime, timedelta\n",
    "from infra_copel import MongoHistoricoOficial\n",
    "from bokeh.models.formatters import DatetimeTickFormatter\n",
    "from exercicio_holoviz import lista_usinas\n",
    "\n",
    "mongo = MongoHistoricoOficial()\n",
    "data_pesquisa_inicial = date.today() - timedelta(days=7)\n",
    "\n",
    "\n",
    "def filtrar_data(data: date, usina: str):\n",
    "    resultado = mongo[\"ons_geracao_usinas\"].find(\n",
    "        {\n",
    "            \"usina\": usina,\n",
    "            \"periodo\": {\"$gte\": datetime(data.year, data.month, data.day)},\n",
    "        }\n",
    "    )\n",
    "    lista = list(resultado)\n",
    "    df = pd.DataFrame(lista)\n",
    "\n",
    "    if not df.empty:\n",
    "        return df.hvplot(\n",
    "            x=\"periodo\", y=\"geracao_mwm\", xformatter=DatetimeTickFormatter(days=\"%d/%m/%Y\")\n",
    "        )\n",
    "    else:\n",
    "        return df.hvplot()\n",
    "\n",
    "\n",
    "filtro_data = pn.widgets.DatePicker(name=\"Data\", value=data_pesquisa_inicial)\n",
    "filtro_usina = pn.widgets.Select(name=\"Usina\", options=lista_usinas(), value=\"Itaipu\")\n",
    "\n",
    "filtered_view = pn.Column(\n",
    "    pn.Row(filtro_usina, filtro_data),\n",
    "    pn.panel(\n",
    "        pn.bind(filtrar_data, data=filtro_data, usina=filtro_usina),\n",
    "        width=800,\n",
    "        height=600,\n",
    "    ),\n",
    ")\n",
    "\n",
    "filtered_view"
   ]
  }
 ],
 "metadata": {
  "kernelspec": {
   "display_name": "Python 3",
   "language": "python",
   "name": "python3"
  },
  "language_info": {
   "codemirror_mode": {
    "name": "ipython",
    "version": 3
   },
   "file_extension": ".py",
   "mimetype": "text/x-python",
   "name": "python",
   "nbconvert_exporter": "python",
   "pygments_lexer": "ipython3",
   "version": "3.11.5"
  }
 },
 "nbformat": 4,
 "nbformat_minor": 2
}
